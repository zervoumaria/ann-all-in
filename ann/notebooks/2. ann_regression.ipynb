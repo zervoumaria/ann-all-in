{
 "cells": [
  {
   "cell_type": "markdown",
   "metadata": {
    "colab_type": "text",
    "id": "3cbb7fRy-eyr"
   },
   "source": [
    "# Artificial Neural Network Regression task"
   ]
  },
  {
   "cell_type": "markdown",
   "metadata": {
    "colab_type": "text",
    "id": "8sNDnxE2-pwE"
   },
   "source": [
    "### Importing the libraries"
   ]
  },
  {
   "cell_type": "code",
   "execution_count": 13,
   "metadata": {
    "colab": {},
    "colab_type": "code",
    "id": "lxChR1Rk-umf"
   },
   "outputs": [],
   "source": [
    "import numpy as np\n",
    "import pandas as pd\n",
    "import tensorflow as tf\n",
    "\n",
    "from sklearn.model_selection import train_test_split\n",
    "from sklearn.metrics import mean_squared_error"
   ]
  },
  {
   "cell_type": "code",
   "execution_count": 2,
   "metadata": {
    "colab": {
     "base_uri": "https://localhost:8080/",
     "height": 34
    },
    "colab_type": "code",
    "id": "uBTqR3nacj0e",
    "outputId": "4c0bd183-e424-429a-9fba-ceb841c06888"
   },
   "outputs": [
    {
     "data": {
      "text/plain": [
       "'2.0.0'"
      ]
     },
     "execution_count": 2,
     "metadata": {},
     "output_type": "execute_result"
    }
   ],
   "source": [
    "tf.__version__"
   ]
  },
  {
   "cell_type": "markdown",
   "metadata": {
    "colab_type": "text",
    "id": "AG3FQEch-yuA"
   },
   "source": [
    "## Part 1 - Data Preprocessing"
   ]
  },
  {
   "cell_type": "markdown",
   "metadata": {},
   "source": [
    "### The dataset is taken from uci machine learning repo - combined cycle power plant\n",
    "- We are trying to rpedict the energy output based on other features like temperature...."
   ]
  },
  {
   "cell_type": "markdown",
   "metadata": {
    "colab_type": "text",
    "id": "-4zq8Mza_D9O"
   },
   "source": [
    "### Importing the dataset"
   ]
  },
  {
   "cell_type": "code",
   "execution_count": 4,
   "metadata": {
    "colab": {},
    "colab_type": "code",
    "id": "B9CV13Co_HHM"
   },
   "outputs": [],
   "source": [
    "dataset = pd.read_excel('../data/regression.xlsx')\n",
    "X = dataset.iloc[:, :-1].values\n",
    "y = dataset.iloc[:, -1].values"
   ]
  },
  {
   "cell_type": "markdown",
   "metadata": {
    "colab_type": "text",
    "id": "VC6omXel_Up0"
   },
   "source": [
    "### Splitting the dataset into the Training set and Test set"
   ]
  },
  {
   "cell_type": "code",
   "execution_count": 5,
   "metadata": {
    "colab": {},
    "colab_type": "code",
    "id": "L5edeb2r_agx"
   },
   "outputs": [],
   "source": [
    "X_train, X_test, y_train, y_test = train_test_split(X, y, test_size = 0.2, random_state = 0)"
   ]
  },
  {
   "cell_type": "markdown",
   "metadata": {
    "colab_type": "text",
    "id": "_mSLlAT9_eyI"
   },
   "source": [
    "## Part 2 - Building the ANN"
   ]
  },
  {
   "cell_type": "markdown",
   "metadata": {
    "colab_type": "text",
    "id": "CsBULd_f_wLY"
   },
   "source": [
    "### Initializing the ANN\n",
    "- Sequential neural net: one input, 2 hidden, one output layer"
   ]
  },
  {
   "cell_type": "code",
   "execution_count": 6,
   "metadata": {
    "colab": {},
    "colab_type": "code",
    "id": "J6Hd97Ls__Nz"
   },
   "outputs": [],
   "source": [
    "ann = tf.keras.models.Sequential()"
   ]
  },
  {
   "cell_type": "markdown",
   "metadata": {
    "colab_type": "text",
    "id": "iitAFJS_ABUn"
   },
   "source": [
    "### Adding the input layer and the first hidden layer"
   ]
  },
  {
   "cell_type": "code",
   "execution_count": 7,
   "metadata": {
    "colab": {},
    "colab_type": "code",
    "id": "ksO_Vv40AHix"
   },
   "outputs": [],
   "source": [
    "ann.add(tf.keras.layers.Dense(units=6, activation='relu'))"
   ]
  },
  {
   "cell_type": "markdown",
   "metadata": {
    "colab_type": "text",
    "id": "-lb4kK_wAKbs"
   },
   "source": [
    "### Adding the second hidden layer"
   ]
  },
  {
   "cell_type": "code",
   "execution_count": 8,
   "metadata": {
    "colab": {},
    "colab_type": "code",
    "id": "c2357OqEAQOQ"
   },
   "outputs": [],
   "source": [
    "ann.add(tf.keras.layers.Dense(units=6, activation='relu'))"
   ]
  },
  {
   "cell_type": "markdown",
   "metadata": {
    "colab_type": "text",
    "id": "jwMOmKb3AdBY"
   },
   "source": [
    "### Adding the output layer\n",
    "- No aciavtion: as we want to predict a continuous variable"
   ]
  },
  {
   "cell_type": "code",
   "execution_count": 9,
   "metadata": {
    "colab": {},
    "colab_type": "code",
    "id": "YFATpzsUAkLL"
   },
   "outputs": [],
   "source": [
    "ann.add(tf.keras.layers.Dense(units=1))"
   ]
  },
  {
   "cell_type": "markdown",
   "metadata": {
    "colab_type": "text",
    "id": "fq7e4fF6A1yy"
   },
   "source": [
    "## Part 3 - Training the ANN"
   ]
  },
  {
   "cell_type": "markdown",
   "metadata": {
    "colab_type": "text",
    "id": "qDeylAs2An25"
   },
   "source": [
    "### Compiling the ANN"
   ]
  },
  {
   "cell_type": "code",
   "execution_count": 10,
   "metadata": {
    "colab": {},
    "colab_type": "code",
    "id": "pesgbWlCAtB4"
   },
   "outputs": [],
   "source": [
    "ann.compile(optimizer = 'adam', loss = 'mean_squared_error')"
   ]
  },
  {
   "cell_type": "markdown",
   "metadata": {
    "colab_type": "text",
    "id": "YjVuiybYOo7r"
   },
   "source": [
    "### Training the ANN model on the Training set"
   ]
  },
  {
   "cell_type": "code",
   "execution_count": 11,
   "metadata": {
    "colab": {
     "base_uri": "https://localhost:8080/",
     "height": 1000
    },
    "colab_type": "code",
    "id": "c_vV-tiiA5zn",
    "outputId": "4a2b6ee6-ed75-4698-9069-b250e613803f"
   },
   "outputs": [
    {
     "name": "stdout",
     "output_type": "stream",
     "text": [
      "Train on 7654 samples\n",
      "Epoch 1/100\n",
      "7654/7654 [==============================] - 1s 90us/sample - loss: 125976.5124\n",
      "Epoch 2/100\n",
      "7654/7654 [==============================] - 0s 31us/sample - loss: 716.8280\n",
      "Epoch 3/100\n",
      "7654/7654 [==============================] - 0s 39us/sample - loss: 326.9771\n",
      "Epoch 4/100\n",
      "7654/7654 [==============================] - 0s 35us/sample - loss: 319.1318\n",
      "Epoch 5/100\n",
      "7654/7654 [==============================] - 0s 34us/sample - loss: 309.9024\n",
      "Epoch 6/100\n",
      "7654/7654 [==============================] - 0s 31us/sample - loss: 299.3650\n",
      "Epoch 7/100\n",
      "7654/7654 [==============================] - 0s 31us/sample - loss: 287.5156\n",
      "Epoch 8/100\n",
      "7654/7654 [==============================] - 0s 31us/sample - loss: 274.5980\n",
      "Epoch 9/100\n",
      "7654/7654 [==============================] - 0s 34us/sample - loss: 260.4905\n",
      "Epoch 10/100\n",
      "7654/7654 [==============================] - 0s 33us/sample - loss: 245.6881\n",
      "Epoch 11/100\n",
      "7654/7654 [==============================] - 0s 33us/sample - loss: 230.1695\n",
      "Epoch 12/100\n",
      "7654/7654 [==============================] - 0s 31us/sample - loss: 213.9823\n",
      "Epoch 13/100\n",
      "7654/7654 [==============================] - 0s 32us/sample - loss: 198.0865\n",
      "Epoch 14/100\n",
      "7654/7654 [==============================] - 0s 35us/sample - loss: 181.29650s - loss: 190.\n",
      "Epoch 15/100\n",
      "7654/7654 [==============================] - 0s 31us/sample - loss: 165.3789\n",
      "Epoch 16/100\n",
      "7654/7654 [==============================] - 0s 32us/sample - loss: 149.7836\n",
      "Epoch 17/100\n",
      "7654/7654 [==============================] - 0s 32us/sample - loss: 134.6764\n",
      "Epoch 18/100\n",
      "7654/7654 [==============================] - 0s 30us/sample - loss: 121.2184\n",
      "Epoch 19/100\n",
      "7654/7654 [==============================] - 0s 30us/sample - loss: 107.9265 - loss: 110.\n",
      "Epoch 20/100\n",
      "7654/7654 [==============================] - 0s 30us/sample - loss: 96.3506\n",
      "Epoch 21/100\n",
      "7654/7654 [==============================] - 0s 30us/sample - loss: 85.4702\n",
      "Epoch 22/100\n",
      "7654/7654 [==============================] - 0s 31us/sample - loss: 76.4092\n",
      "Epoch 23/100\n",
      "7654/7654 [==============================] - 0s 30us/sample - loss: 67.9138\n",
      "Epoch 24/100\n",
      "7654/7654 [==============================] - 0s 31us/sample - loss: 60.2784\n",
      "Epoch 25/100\n",
      "7654/7654 [==============================] - 0s 33us/sample - loss: 53.9279\n",
      "Epoch 26/100\n",
      "7654/7654 [==============================] - 0s 32us/sample - loss: 48.4353\n",
      "Epoch 27/100\n",
      "7654/7654 [==============================] - 0s 30us/sample - loss: 43.6854\n",
      "Epoch 28/100\n",
      "7654/7654 [==============================] - 0s 31us/sample - loss: 39.5576\n",
      "Epoch 29/100\n",
      "7654/7654 [==============================] - 0s 34us/sample - loss: 36.2048\n",
      "Epoch 30/100\n",
      "7654/7654 [==============================] - 0s 34us/sample - loss: 33.8669\n",
      "Epoch 31/100\n",
      "7654/7654 [==============================] - 0s 34us/sample - loss: 32.3137\n",
      "Epoch 32/100\n",
      "7654/7654 [==============================] - 0s 31us/sample - loss: 30.3808\n",
      "Epoch 33/100\n",
      "7654/7654 [==============================] - 0s 30us/sample - loss: 30.0583\n",
      "Epoch 34/100\n",
      "7654/7654 [==============================] - 0s 30us/sample - loss: 28.8302\n",
      "Epoch 35/100\n",
      "7654/7654 [==============================] - 0s 33us/sample - loss: 28.5979\n",
      "Epoch 36/100\n",
      "7654/7654 [==============================] - 0s 32us/sample - loss: 28.2135\n",
      "Epoch 37/100\n",
      "7654/7654 [==============================] - 0s 31us/sample - loss: 27.7582\n",
      "Epoch 38/100\n",
      "7654/7654 [==============================] - 0s 31us/sample - loss: 28.0977\n",
      "Epoch 39/100\n",
      "7654/7654 [==============================] - 0s 31us/sample - loss: 27.7024\n",
      "Epoch 40/100\n",
      "7654/7654 [==============================] - 0s 31us/sample - loss: 28.1686\n",
      "Epoch 41/100\n",
      "7654/7654 [==============================] - 0s 31us/sample - loss: 27.5926\n",
      "Epoch 42/100\n",
      "7654/7654 [==============================] - 0s 31us/sample - loss: 27.2173\n",
      "Epoch 43/100\n",
      "7654/7654 [==============================] - 0s 34us/sample - loss: 27.3914\n",
      "Epoch 44/100\n",
      "7654/7654 [==============================] - 0s 30us/sample - loss: 27.3715\n",
      "Epoch 45/100\n",
      "7654/7654 [==============================] - 0s 32us/sample - loss: 27.1369\n",
      "Epoch 46/100\n",
      "7654/7654 [==============================] - 0s 30us/sample - loss: 27.2015\n",
      "Epoch 47/100\n",
      "7654/7654 [==============================] - 0s 31us/sample - loss: 27.5909\n",
      "Epoch 48/100\n",
      "7654/7654 [==============================] - 0s 31us/sample - loss: 27.4006\n",
      "Epoch 49/100\n",
      "7654/7654 [==============================] - 0s 31us/sample - loss: 26.8542\n",
      "Epoch 50/100\n",
      "7654/7654 [==============================] - 0s 30us/sample - loss: 27.1463\n",
      "Epoch 51/100\n",
      "7654/7654 [==============================] - 0s 31us/sample - loss: 27.3218\n",
      "Epoch 52/100\n",
      "7654/7654 [==============================] - 0s 31us/sample - loss: 27.7116\n",
      "Epoch 53/100\n",
      "7654/7654 [==============================] - 0s 31us/sample - loss: 26.5127\n",
      "Epoch 54/100\n",
      "7654/7654 [==============================] - 0s 31us/sample - loss: 26.5278\n",
      "Epoch 55/100\n",
      "7654/7654 [==============================] - 0s 32us/sample - loss: 26.7069\n",
      "Epoch 56/100\n",
      "7654/7654 [==============================] - 0s 35us/sample - loss: 26.7413\n",
      "Epoch 57/100\n",
      "7654/7654 [==============================] - 0s 30us/sample - loss: 27.1102\n",
      "Epoch 58/100\n",
      "7654/7654 [==============================] - 0s 31us/sample - loss: 26.9469\n",
      "Epoch 59/100\n",
      "7654/7654 [==============================] - 0s 31us/sample - loss: 27.5892\n",
      "Epoch 60/100\n",
      "7654/7654 [==============================] - 0s 31us/sample - loss: 26.6238\n",
      "Epoch 61/100\n",
      "7654/7654 [==============================] - 0s 31us/sample - loss: 26.8858s - loss: 26.\n",
      "Epoch 62/100\n",
      "7654/7654 [==============================] - 0s 31us/sample - loss: 27.4297\n",
      "Epoch 63/100\n",
      "7654/7654 [==============================] - 0s 31us/sample - loss: 26.4899s - loss: 26.\n",
      "Epoch 64/100\n",
      "7654/7654 [==============================] - 0s 31us/sample - loss: 26.7032\n",
      "Epoch 65/100\n",
      "7654/7654 [==============================] - 0s 31us/sample - loss: 27.1200\n",
      "Epoch 66/100\n",
      "7654/7654 [==============================] - 0s 30us/sample - loss: 26.7129\n",
      "Epoch 67/100\n",
      "7654/7654 [==============================] - 0s 31us/sample - loss: 26.7816\n",
      "Epoch 68/100\n",
      "7654/7654 [==============================] - 0s 31us/sample - loss: 26.8026\n",
      "Epoch 69/100\n",
      "7654/7654 [==============================] - 0s 30us/sample - loss: 26.9821\n",
      "Epoch 70/100\n",
      "7654/7654 [==============================] - 0s 30us/sample - loss: 26.5737\n",
      "Epoch 71/100\n",
      "7654/7654 [==============================] - 0s 30us/sample - loss: 26.6905\n",
      "Epoch 72/100\n",
      "7654/7654 [==============================] - 0s 31us/sample - loss: 26.8351\n",
      "Epoch 73/100\n",
      "7654/7654 [==============================] - 0s 30us/sample - loss: 26.5910\n",
      "Epoch 74/100\n",
      "7654/7654 [==============================] - 0s 31us/sample - loss: 26.5717\n",
      "Epoch 75/100\n",
      "7654/7654 [==============================] - 0s 30us/sample - loss: 26.4272\n",
      "Epoch 76/100\n",
      "7654/7654 [==============================] - 0s 30us/sample - loss: 26.9570\n",
      "Epoch 77/100\n",
      "7654/7654 [==============================] - ETA: 0s - loss: 27.00 - 0s 30us/sample - loss: 26.6782\n",
      "Epoch 78/100\n",
      "7654/7654 [==============================] - 0s 30us/sample - loss: 27.1088\n",
      "Epoch 79/100\n",
      "7654/7654 [==============================] - 0s 31us/sample - loss: 26.9688\n",
      "Epoch 80/100\n",
      "7654/7654 [==============================] - 0s 30us/sample - loss: 26.6043\n",
      "Epoch 81/100\n",
      "7654/7654 [==============================] - 0s 30us/sample - loss: 26.5155\n",
      "Epoch 82/100\n",
      "7654/7654 [==============================] - 0s 31us/sample - loss: 27.2129\n",
      "Epoch 83/100\n",
      "7654/7654 [==============================] - 0s 30us/sample - loss: 26.6259\n",
      "Epoch 84/100\n",
      "7654/7654 [==============================] - 0s 31us/sample - loss: 27.1246\n",
      "Epoch 85/100\n",
      "7654/7654 [==============================] - 0s 32us/sample - loss: 26.9588\n",
      "Epoch 86/100\n",
      "7654/7654 [==============================] - 0s 31us/sample - loss: 27.0888\n",
      "Epoch 87/100\n",
      "7654/7654 [==============================] - 0s 32us/sample - loss: 26.4986s - loss: 2\n",
      "Epoch 88/100\n",
      "7654/7654 [==============================] - 0s 33us/sample - loss: 27.0073\n",
      "Epoch 89/100\n",
      "7654/7654 [==============================] - 0s 32us/sample - loss: 26.9627\n",
      "Epoch 90/100\n",
      "7654/7654 [==============================] - 0s 31us/sample - loss: 26.9202\n",
      "Epoch 91/100\n"
     ]
    },
    {
     "name": "stdout",
     "output_type": "stream",
     "text": [
      "7654/7654 [==============================] - 0s 35us/sample - loss: 26.6479\n",
      "Epoch 92/100\n",
      "7654/7654 [==============================] - 0s 35us/sample - loss: 26.4318\n",
      "Epoch 93/100\n",
      "7654/7654 [==============================] - 0s 37us/sample - loss: 27.1097\n",
      "Epoch 94/100\n",
      "7654/7654 [==============================] - 0s 38us/sample - loss: 26.8641\n",
      "Epoch 95/100\n",
      "7654/7654 [==============================] - 0s 36us/sample - loss: 26.5018\n",
      "Epoch 96/100\n",
      "7654/7654 [==============================] - 0s 36us/sample - loss: 26.9500\n",
      "Epoch 97/100\n",
      "7654/7654 [==============================] - 0s 36us/sample - loss: 26.3147\n",
      "Epoch 98/100\n",
      "7654/7654 [==============================] - 0s 37us/sample - loss: 26.7063\n",
      "Epoch 99/100\n",
      "7654/7654 [==============================] - 0s 37us/sample - loss: 26.9918\n",
      "Epoch 100/100\n",
      "7654/7654 [==============================] - 0s 36us/sample - loss: 26.9456\n"
     ]
    },
    {
     "data": {
      "text/plain": [
       "<tensorflow.python.keras.callbacks.History at 0x24b0ea835c0>"
      ]
     },
     "execution_count": 11,
     "metadata": {},
     "output_type": "execute_result"
    }
   ],
   "source": [
    "ann.fit(X_train, y_train, batch_size = 32, epochs = 100)"
   ]
  },
  {
   "cell_type": "markdown",
   "metadata": {
    "colab_type": "text",
    "id": "0H0zKKNEBLD5"
   },
   "source": [
    "### Predicting the results of the Test set"
   ]
  },
  {
   "cell_type": "code",
   "execution_count": 12,
   "metadata": {
    "colab": {
     "base_uri": "https://localhost:8080/",
     "height": 134
    },
    "colab_type": "code",
    "id": "IA0yApEmBG1X",
    "outputId": "cb981e1f-9204-4a2a-fece-9d66a6919189"
   },
   "outputs": [
    {
     "name": "stdout",
     "output_type": "stream",
     "text": [
      "[[431.24 431.23]\n",
      " [462.31 460.01]\n",
      " [465.81 461.14]\n",
      " ...\n",
      " [473.05 473.26]\n",
      " [439.84 438.  ]\n",
      " [459.06 463.28]]\n"
     ]
    }
   ],
   "source": [
    "y_pred = ann.predict(X_test)\n",
    "np.set_printoptions(precision=2)\n",
    "print(np.concatenate((y_pred.reshape(len(y_pred),1), y_test.reshape(len(y_test),1)),1))"
   ]
  },
  {
   "cell_type": "code",
   "execution_count": 14,
   "metadata": {},
   "outputs": [
    {
     "data": {
      "text/plain": [
       "24.570272792816912"
      ]
     },
     "execution_count": 14,
     "metadata": {},
     "output_type": "execute_result"
    }
   ],
   "source": [
    "mean_squared_error(y_test, y_pred)"
   ]
  },
  {
   "cell_type": "code",
   "execution_count": null,
   "metadata": {},
   "outputs": [],
   "source": []
  }
 ],
 "metadata": {
  "colab": {
   "collapsed_sections": [],
   "name": "Artificial Neural Network",
   "provenance": [],
   "toc_visible": true
  },
  "kernelspec": {
   "display_name": "tensorflow",
   "language": "python",
   "name": "tensorflow"
  },
  "language_info": {
   "codemirror_mode": {
    "name": "ipython",
    "version": 3
   },
   "file_extension": ".py",
   "mimetype": "text/x-python",
   "name": "python",
   "nbconvert_exporter": "python",
   "pygments_lexer": "ipython3",
   "version": "3.6.10"
  }
 },
 "nbformat": 4,
 "nbformat_minor": 1
}
