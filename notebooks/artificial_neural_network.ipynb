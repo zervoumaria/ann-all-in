{
 "cells": [
  {
   "cell_type": "markdown",
   "metadata": {
    "colab_type": "text",
    "id": "lP6JLo1tGNBg"
   },
   "source": [
    "# Artificial Neural Network"
   ]
  },
  {
   "cell_type": "markdown",
   "metadata": {
    "colab_type": "text",
    "id": "gWZyYmS_UE_L"
   },
   "source": [
    "### Importing the libraries"
   ]
  },
  {
   "cell_type": "code",
   "execution_count": 34,
   "metadata": {
    "colab": {},
    "colab_type": "code",
    "id": "MxkJoQBkUIHC"
   },
   "outputs": [],
   "source": [
    "import numpy as np\n",
    "import pandas as pd\n",
    "import tensorflow as tf\n",
    "\n",
    "from sklearn.preprocessing import LabelEncoder\n",
    "from sklearn.compose import ColumnTransformer\n",
    "from sklearn.preprocessing import OneHotEncoder\n",
    "from sklearn.model_selection import train_test_split\n",
    "from sklearn.preprocessing import StandardScaler\n",
    "from sklearn.metrics import confusion_matrix, accuracy_score, precision_score\n"
   ]
  },
  {
   "cell_type": "code",
   "execution_count": 2,
   "metadata": {
    "colab": {
     "base_uri": "https://localhost:8080/",
     "height": 34
    },
    "colab_type": "code",
    "executionInfo": {
     "elapsed": 2400,
     "status": "ok",
     "timestamp": 1590257449959,
     "user": {
      "displayName": "Hadelin de Ponteves",
      "photoUrl": "https://lh3.googleusercontent.com/a-/AOh14GhEuXdT7eQweUmRPW8_laJuPggSK6hfvpl5a6WBaA=s64",
      "userId": "15047218817161520419"
     },
     "user_tz": -240
    },
    "id": "ZaTwK7ojXr2F",
    "outputId": "0b27a96d-d11a-43e8-ab4b-87c1f01896fe"
   },
   "outputs": [
    {
     "data": {
      "text/plain": [
       "'2.0.0'"
      ]
     },
     "execution_count": 2,
     "metadata": {},
     "output_type": "execute_result"
    }
   ],
   "source": [
    "tf.__version__"
   ]
  },
  {
   "cell_type": "markdown",
   "metadata": {
    "colab_type": "text",
    "id": "1E0Q3aoKUCRX"
   },
   "source": [
    "## Part 1 - Data Preprocessing"
   ]
  },
  {
   "cell_type": "markdown",
   "metadata": {
    "colab_type": "text",
    "id": "cKWAkFVGUU0Z"
   },
   "source": [
    "### Importing the dataset"
   ]
  },
  {
   "cell_type": "code",
   "execution_count": 3,
   "metadata": {
    "colab": {},
    "colab_type": "code",
    "id": "MXUkhkMfU4wq"
   },
   "outputs": [],
   "source": [
    "dataset = pd.read_csv('../data/Churn_Modelling.csv')\n",
    "X = dataset.iloc[:, 3:-1].values\n",
    "y = dataset.iloc[:, -1].values"
   ]
  },
  {
   "cell_type": "code",
   "execution_count": 4,
   "metadata": {
    "colab": {
     "base_uri": "https://localhost:8080/",
     "height": 137
    },
    "colab_type": "code",
    "executionInfo": {
     "elapsed": 2396,
     "status": "ok",
     "timestamp": 1590257449961,
     "user": {
      "displayName": "Hadelin de Ponteves",
      "photoUrl": "https://lh3.googleusercontent.com/a-/AOh14GhEuXdT7eQweUmRPW8_laJuPggSK6hfvpl5a6WBaA=s64",
      "userId": "15047218817161520419"
     },
     "user_tz": -240
    },
    "id": "VYP9cQTWbzuI",
    "outputId": "797e7a64-9bac-436a-8c9c-94437e5e7587"
   },
   "outputs": [
    {
     "name": "stdout",
     "output_type": "stream",
     "text": [
      "[[619 'France' 'Female' ... 1 1 101348.88]\n",
      " [608 'Spain' 'Female' ... 0 1 112542.58]\n",
      " [502 'France' 'Female' ... 1 0 113931.57]\n",
      " ...\n",
      " [709 'France' 'Female' ... 0 1 42085.58]\n",
      " [772 'Germany' 'Male' ... 1 0 92888.52]\n",
      " [792 'France' 'Female' ... 1 0 38190.78]]\n"
     ]
    }
   ],
   "source": [
    "print(X)"
   ]
  },
  {
   "cell_type": "code",
   "execution_count": 5,
   "metadata": {
    "colab": {
     "base_uri": "https://localhost:8080/",
     "height": 34
    },
    "colab_type": "code",
    "executionInfo": {
     "elapsed": 2391,
     "status": "ok",
     "timestamp": 1590257449961,
     "user": {
      "displayName": "Hadelin de Ponteves",
      "photoUrl": "https://lh3.googleusercontent.com/a-/AOh14GhEuXdT7eQweUmRPW8_laJuPggSK6hfvpl5a6WBaA=s64",
      "userId": "15047218817161520419"
     },
     "user_tz": -240
    },
    "id": "38vKGE6Nb2RR",
    "outputId": "a815e42a-e0dd-4cb5-ab97-b17ead98fbc3"
   },
   "outputs": [
    {
     "name": "stdout",
     "output_type": "stream",
     "text": [
      "[1 0 1 ... 1 1 0]\n"
     ]
    }
   ],
   "source": [
    "print(y)"
   ]
  },
  {
   "cell_type": "markdown",
   "metadata": {
    "colab_type": "text",
    "id": "N6bQ0UgSU-NJ"
   },
   "source": [
    "### Encoding categorical data"
   ]
  },
  {
   "cell_type": "markdown",
   "metadata": {
    "colab_type": "text",
    "id": "le5MJreAbW52"
   },
   "source": [
    "Label Encoding the \"Gender\" column"
   ]
  },
  {
   "cell_type": "code",
   "execution_count": 6,
   "metadata": {
    "colab": {},
    "colab_type": "code",
    "id": "PxVKWXxLbczC"
   },
   "outputs": [],
   "source": [
    "le = LabelEncoder()\n",
    "X[:, 2] = le.fit_transform(X[:, 2])"
   ]
  },
  {
   "cell_type": "code",
   "execution_count": 7,
   "metadata": {
    "colab": {
     "base_uri": "https://localhost:8080/",
     "height": 137
    },
    "colab_type": "code",
    "executionInfo": {
     "elapsed": 2719,
     "status": "ok",
     "timestamp": 1590257450295,
     "user": {
      "displayName": "Hadelin de Ponteves",
      "photoUrl": "https://lh3.googleusercontent.com/a-/AOh14GhEuXdT7eQweUmRPW8_laJuPggSK6hfvpl5a6WBaA=s64",
      "userId": "15047218817161520419"
     },
     "user_tz": -240
    },
    "id": "-M1KboxFb6OO",
    "outputId": "e2b8c7e8-0cbc-4cdf-f4eb-7f0853a00b88"
   },
   "outputs": [
    {
     "name": "stdout",
     "output_type": "stream",
     "text": [
      "[[619 'France' 0 ... 1 1 101348.88]\n",
      " [608 'Spain' 0 ... 0 1 112542.58]\n",
      " [502 'France' 0 ... 1 0 113931.57]\n",
      " ...\n",
      " [709 'France' 0 ... 0 1 42085.58]\n",
      " [772 'Germany' 1 ... 1 0 92888.52]\n",
      " [792 'France' 0 ... 1 0 38190.78]]\n"
     ]
    }
   ],
   "source": [
    "print(X)"
   ]
  },
  {
   "cell_type": "markdown",
   "metadata": {
    "colab_type": "text",
    "id": "CUxGZezpbMcb"
   },
   "source": [
    "One Hot Encoding the \"Geography\" column"
   ]
  },
  {
   "cell_type": "code",
   "execution_count": 8,
   "metadata": {
    "colab": {},
    "colab_type": "code",
    "id": "AMXC8-KMVirw"
   },
   "outputs": [],
   "source": [
    "ct = ColumnTransformer(transformers=[('encoder', OneHotEncoder(), [1])], remainder='passthrough')\n",
    "X = np.array(ct.fit_transform(X))"
   ]
  },
  {
   "cell_type": "code",
   "execution_count": 9,
   "metadata": {
    "colab": {
     "base_uri": "https://localhost:8080/",
     "height": 137
    },
    "colab_type": "code",
    "executionInfo": {
     "elapsed": 2713,
     "status": "ok",
     "timestamp": 1590257450296,
     "user": {
      "displayName": "Hadelin de Ponteves",
      "photoUrl": "https://lh3.googleusercontent.com/a-/AOh14GhEuXdT7eQweUmRPW8_laJuPggSK6hfvpl5a6WBaA=s64",
      "userId": "15047218817161520419"
     },
     "user_tz": -240
    },
    "id": "ZcxwEon-b8nV",
    "outputId": "23a98af4-5e33-4b26-c27b-f06e3c5d2baf"
   },
   "outputs": [
    {
     "name": "stdout",
     "output_type": "stream",
     "text": [
      "[[1.0 0.0 0.0 ... 1 1 101348.88]\n",
      " [0.0 0.0 1.0 ... 0 1 112542.58]\n",
      " [1.0 0.0 0.0 ... 1 0 113931.57]\n",
      " ...\n",
      " [1.0 0.0 0.0 ... 0 1 42085.58]\n",
      " [0.0 1.0 0.0 ... 1 0 92888.52]\n",
      " [1.0 0.0 0.0 ... 1 0 38190.78]]\n"
     ]
    }
   ],
   "source": [
    "print(X)"
   ]
  },
  {
   "cell_type": "markdown",
   "metadata": {
    "colab_type": "text",
    "id": "vHol938cW8zd"
   },
   "source": [
    "### Splitting the dataset into the Training set and Test set"
   ]
  },
  {
   "cell_type": "code",
   "execution_count": 10,
   "metadata": {
    "colab": {},
    "colab_type": "code",
    "id": "Z-TDt0Y_XEfc"
   },
   "outputs": [],
   "source": [
    "X_train, X_test, y_train, y_test = train_test_split(X, y, test_size = 0.2, random_state = 0)"
   ]
  },
  {
   "cell_type": "markdown",
   "metadata": {
    "colab_type": "text",
    "id": "RE_FcHyfV3TQ"
   },
   "source": [
    "### Feature Scaling"
   ]
  },
  {
   "cell_type": "code",
   "execution_count": 11,
   "metadata": {
    "colab": {},
    "colab_type": "code",
    "id": "ViCrE00rV8Sk"
   },
   "outputs": [],
   "source": [
    "sc = StandardScaler()\n",
    "X_train = sc.fit_transform(X_train)\n",
    "X_test = sc.transform(X_test)"
   ]
  },
  {
   "cell_type": "markdown",
   "metadata": {
    "colab_type": "text",
    "id": "-zfEzkRVXIwF"
   },
   "source": [
    "## Part 2 - Building the ANN"
   ]
  },
  {
   "cell_type": "markdown",
   "metadata": {
    "colab_type": "text",
    "id": "KvdeScabXtlB"
   },
   "source": [
    "### Initializing the ANN\n",
    "ANN are sequential, one layer after the other"
   ]
  },
  {
   "cell_type": "code",
   "execution_count": 20,
   "metadata": {
    "colab": {},
    "colab_type": "code",
    "id": "3dtrScHxXQox"
   },
   "outputs": [],
   "source": [
    "ann = tf.keras.models.Sequential()"
   ]
  },
  {
   "cell_type": "markdown",
   "metadata": {
    "colab_type": "text",
    "id": "rP6urV6SX7kS"
   },
   "source": [
    "### Adding the input layer and the first hidden layer\n",
    "- When we want fully connected layer we use the Dense class where it initialised the input layer and the fully connected layer\n",
    "- We just need to define the activation function, in this case relu and the number of nodes in the hiddel layer\n"
   ]
  },
  {
   "cell_type": "code",
   "execution_count": 21,
   "metadata": {
    "colab": {},
    "colab_type": "code",
    "id": "bppGycBXYCQr"
   },
   "outputs": [],
   "source": [
    "ann.add(tf.keras.layers.Dense(units=6, activation='relu'))"
   ]
  },
  {
   "cell_type": "markdown",
   "metadata": {
    "colab_type": "text",
    "id": "BELWAc_8YJze"
   },
   "source": [
    "### Adding the second hidden layer"
   ]
  },
  {
   "cell_type": "code",
   "execution_count": 22,
   "metadata": {
    "colab": {},
    "colab_type": "code",
    "id": "JneR0u0sYRTd"
   },
   "outputs": [],
   "source": [
    "ann.add(tf.keras.layers.Dense(units=6, activation='relu'))"
   ]
  },
  {
   "cell_type": "markdown",
   "metadata": {
    "colab_type": "text",
    "id": "OyNEe6RXYcU4"
   },
   "source": [
    "### Adding the output layer\n",
    "- Here we need to define the activation agaon and we used sigmoid to transform the output to a probability \n",
    "- the dimensions of the output layer is one as the prediction is going to be a probability value, the treshold of which we could define as we wish. By default if probability > 0.5 then churner "
   ]
  },
  {
   "cell_type": "code",
   "execution_count": 23,
   "metadata": {
    "colab": {},
    "colab_type": "code",
    "id": "Cn3x41RBYfvY"
   },
   "outputs": [],
   "source": [
    "ann.add(tf.keras.layers.Dense(units=1, activation='sigmoid'))"
   ]
  },
  {
   "cell_type": "markdown",
   "metadata": {
    "colab_type": "text",
    "id": "JT4u2S1_Y4WG"
   },
   "source": [
    "## Part 3 - Training the ANN"
   ]
  },
  {
   "cell_type": "markdown",
   "metadata": {
    "colab_type": "text",
    "id": "8GWlJChhY_ZI"
   },
   "source": [
    "### Compiling the ANN"
   ]
  },
  {
   "cell_type": "code",
   "execution_count": 26,
   "metadata": {
    "colab": {},
    "colab_type": "code",
    "id": "fG3RrwDXZEaS"
   },
   "outputs": [],
   "source": [
    "ann.compile(optimizer = 'adam', loss = 'binary_crossentropy', metrics = ['Precision'])"
   ]
  },
  {
   "cell_type": "markdown",
   "metadata": {
    "colab_type": "text",
    "id": "0QR_G5u7ZLSM"
   },
   "source": [
    "### Training the ANN on the Training set\n",
    "- We are performing batch optimisation, the weights are updated after the whole batch is processed"
   ]
  },
  {
   "cell_type": "code",
   "execution_count": 27,
   "metadata": {
    "colab": {
     "base_uri": "https://localhost:8080/",
     "height": 1000
    },
    "colab_type": "code",
    "executionInfo": {
     "elapsed": 33685,
     "status": "ok",
     "timestamp": 1590257481284,
     "user": {
      "displayName": "Hadelin de Ponteves",
      "photoUrl": "https://lh3.googleusercontent.com/a-/AOh14GhEuXdT7eQweUmRPW8_laJuPggSK6hfvpl5a6WBaA=s64",
      "userId": "15047218817161520419"
     },
     "user_tz": -240
    },
    "id": "nHZ-LKv_ZRb3",
    "outputId": "718cc4b0-b5aa-40f0-9b20-d3d31730a531"
   },
   "outputs": [
    {
     "name": "stdout",
     "output_type": "stream",
     "text": [
      "Train on 8000 samples\n",
      "Epoch 1/100\n",
      "8000/8000 [==============================] - 1s 66us/sample - loss: 0.6035 - Precision: 0.1868\n",
      "Epoch 2/100\n",
      "8000/8000 [==============================] - 0s 30us/sample - loss: 0.4977 - Precision: 0.0000e+00\n",
      "Epoch 3/100\n",
      "8000/8000 [==============================] - 0s 30us/sample - loss: 0.4639 - Precision: 0.0000e+00\n",
      "Epoch 4/100\n",
      "8000/8000 [==============================] - 0s 30us/sample - loss: 0.4458 - Precision: 0.6667TA: 0s - loss: 0.4430 - Precision: 1.0000  \n",
      "Epoch 5/100\n",
      "8000/8000 [==============================] - 0s 30us/sample - loss: 0.4350 - Precision: 0.6000TA: 0s - loss: 0.4540 - Precision: 0.7\n",
      "Epoch 6/100\n",
      "8000/8000 [==============================] - 0s 30us/sample - loss: 0.4285 - Precision: 0.6699\n",
      "Epoch 7/100\n",
      "8000/8000 [==============================] - 0s 30us/sample - loss: 0.4219 - Precision: 0.6887\n",
      "Epoch 8/100\n",
      "8000/8000 [==============================] - 0s 30us/sample - loss: 0.4142 - Precision: 0.7323\n",
      "Epoch 9/100\n",
      "8000/8000 [==============================] - 0s 30us/sample - loss: 0.4044 - Precision: 0.7737\n",
      "Epoch 10/100\n",
      "8000/8000 [==============================] - 0s 30us/sample - loss: 0.3933 - Precision: 0.7531\n",
      "Epoch 11/100\n",
      "8000/8000 [==============================] - 0s 30us/sample - loss: 0.3825 - Precision: 0.7391\n",
      "Epoch 12/100\n",
      "8000/8000 [==============================] - 0s 32us/sample - loss: 0.3729 - Precision: 0.7370\n",
      "Epoch 13/100\n",
      "8000/8000 [==============================] - 0s 32us/sample - loss: 0.3658 - Precision: 0.7260\n",
      "Epoch 14/100\n",
      "8000/8000 [==============================] - 0s 32us/sample - loss: 0.3602 - Precision: 0.7348\n",
      "Epoch 15/100\n",
      "8000/8000 [==============================] - 0s 31us/sample - loss: 0.3568 - Precision: 0.7372\n",
      "Epoch 16/100\n",
      "8000/8000 [==============================] - 0s 33us/sample - loss: 0.3539 - Precision: 0.7467\n",
      "Epoch 17/100\n",
      "8000/8000 [==============================] - 0s 30us/sample - loss: 0.3520 - Precision: 0.7463\n",
      "Epoch 18/100\n",
      "8000/8000 [==============================] - 0s 30us/sample - loss: 0.3500 - Precision: 0.7513\n",
      "Epoch 19/100\n",
      "8000/8000 [==============================] - 0s 30us/sample - loss: 0.3490 - Precision: 0.7376\n",
      "Epoch 20/100\n",
      "8000/8000 [==============================] - 0s 30us/sample - loss: 0.3479 - Precision: 0.7495\n",
      "Epoch 21/100\n",
      "8000/8000 [==============================] - 0s 30us/sample - loss: 0.3471 - Precision: 0.7553\n",
      "Epoch 22/100\n",
      "8000/8000 [==============================] - 0s 32us/sample - loss: 0.3464 - Precision: 0.75070s - loss: 0.3449 - Precision: 0.73\n",
      "Epoch 23/100\n",
      "8000/8000 [==============================] - 0s 31us/sample - loss: 0.3458 - Precision: 0.7433\n",
      "Epoch 24/100\n",
      "8000/8000 [==============================] - 0s 30us/sample - loss: 0.3448 - Precision: 0.7407\n",
      "Epoch 25/100\n",
      "8000/8000 [==============================] - 0s 30us/sample - loss: 0.3446 - Precision: 0.7384\n",
      "Epoch 26/100\n",
      "8000/8000 [==============================] - 0s 34us/sample - loss: 0.3439 - Precision: 0.7458\n",
      "Epoch 27/100\n",
      "8000/8000 [==============================] - 0s 39us/sample - loss: 0.3436 - Precision: 0.7471\n",
      "Epoch 28/100\n",
      "8000/8000 [==============================] - 0s 31us/sample - loss: 0.3426 - Precision: 0.7378\n",
      "Epoch 29/100\n",
      "8000/8000 [==============================] - 0s 33us/sample - loss: 0.3422 - Precision: 0.7424\n",
      "Epoch 30/100\n",
      "8000/8000 [==============================] - 0s 30us/sample - loss: 0.3424 - Precision: 0.7478\n",
      "Epoch 31/100\n",
      "8000/8000 [==============================] - 0s 30us/sample - loss: 0.3418 - Precision: 0.7485\n",
      "Epoch 32/100\n",
      "8000/8000 [==============================] - 0s 32us/sample - loss: 0.3413 - Precision: 0.7410\n",
      "Epoch 33/100\n",
      "8000/8000 [==============================] - 0s 30us/sample - loss: 0.3413 - Precision: 0.7498\n",
      "Epoch 34/100\n",
      "8000/8000 [==============================] - 0s 30us/sample - loss: 0.3405 - Precision: 0.7430\n",
      "Epoch 35/100\n",
      "8000/8000 [==============================] - 0s 30us/sample - loss: 0.3405 - Precision: 0.7461\n",
      "Epoch 36/100\n",
      "8000/8000 [==============================] - 0s 30us/sample - loss: 0.3401 - Precision: 0.7530\n",
      "Epoch 37/100\n",
      "8000/8000 [==============================] - 0s 30us/sample - loss: 0.3406 - Precision: 0.7500\n",
      "Epoch 38/100\n",
      "8000/8000 [==============================] - 0s 30us/sample - loss: 0.3398 - Precision: 0.7466\n",
      "Epoch 39/100\n",
      "8000/8000 [==============================] - 0s 30us/sample - loss: 0.3397 - Precision: 0.7598\n",
      "Epoch 40/100\n",
      "8000/8000 [==============================] - 0s 30us/sample - loss: 0.3392 - Precision: 0.75990s - loss: 0.3391 - Precision: 0.75\n",
      "Epoch 41/100\n",
      "8000/8000 [==============================] - 0s 33us/sample - loss: 0.3391 - Precision: 0.7443\n",
      "Epoch 42/100\n",
      "8000/8000 [==============================] - 0s 31us/sample - loss: 0.3389 - Precision: 0.7552\n",
      "Epoch 43/100\n",
      "8000/8000 [==============================] - 0s 30us/sample - loss: 0.3385 - Precision: 0.7435\n",
      "Epoch 44/100\n",
      "8000/8000 [==============================] - 0s 30us/sample - loss: 0.3385 - Precision: 0.7557\n",
      "Epoch 45/100\n",
      "8000/8000 [==============================] - 0s 31us/sample - loss: 0.3381 - Precision: 0.7570\n",
      "Epoch 46/100\n",
      "8000/8000 [==============================] - 0s 33us/sample - loss: 0.3384 - Precision: 0.7493\n",
      "Epoch 47/100\n",
      "8000/8000 [==============================] - 0s 33us/sample - loss: 0.3380 - Precision: 0.7593\n",
      "Epoch 48/100\n",
      "8000/8000 [==============================] - 0s 32us/sample - loss: 0.3374 - Precision: 0.7674\n",
      "Epoch 49/100\n",
      "8000/8000 [==============================] - 0s 32us/sample - loss: 0.3377 - Precision: 0.7467\n",
      "Epoch 50/100\n",
      "8000/8000 [==============================] - 0s 30us/sample - loss: 0.3376 - Precision: 0.7629\n",
      "Epoch 51/100\n",
      "8000/8000 [==============================] - 0s 30us/sample - loss: 0.3376 - Precision: 0.7486\n",
      "Epoch 52/100\n",
      "8000/8000 [==============================] - 0s 29us/sample - loss: 0.3369 - Precision: 0.7552\n",
      "Epoch 53/100\n",
      "8000/8000 [==============================] - 0s 30us/sample - loss: 0.3370 - Precision: 0.7478\n",
      "Epoch 54/100\n",
      "8000/8000 [==============================] - 0s 33us/sample - loss: 0.3369 - Precision: 0.7563\n",
      "Epoch 55/100\n",
      "8000/8000 [==============================] - 0s 30us/sample - loss: 0.3367 - Precision: 0.7554\n",
      "Epoch 56/100\n",
      "8000/8000 [==============================] - 0s 30us/sample - loss: 0.3367 - Precision: 0.7488\n",
      "Epoch 57/100\n",
      "8000/8000 [==============================] - 0s 30us/sample - loss: 0.3365 - Precision: 0.7648\n",
      "Epoch 58/100\n",
      "8000/8000 [==============================] - 0s 34us/sample - loss: 0.3368 - Precision: 0.7459\n",
      "Epoch 59/100\n",
      "8000/8000 [==============================] - 0s 30us/sample - loss: 0.3359 - Precision: 0.7620\n",
      "Epoch 60/100\n",
      "8000/8000 [==============================] - 0s 30us/sample - loss: 0.3365 - Precision: 0.7481\n",
      "Epoch 61/100\n",
      "8000/8000 [==============================] - 0s 30us/sample - loss: 0.3361 - Precision: 0.7547\n",
      "Epoch 62/100\n",
      "8000/8000 [==============================] - 0s 31us/sample - loss: 0.3360 - Precision: 0.74780s - loss: 0.3477 - Precision: 0.\n",
      "Epoch 63/100\n",
      "8000/8000 [==============================] - 0s 31us/sample - loss: 0.3363 - Precision: 0.7562\n",
      "Epoch 64/100\n",
      "8000/8000 [==============================] - 0s 31us/sample - loss: 0.3359 - Precision: 0.7524\n",
      "Epoch 65/100\n",
      "8000/8000 [==============================] - 0s 31us/sample - loss: 0.3357 - Precision: 0.7485\n",
      "Epoch 66/100\n",
      "8000/8000 [==============================] - 0s 31us/sample - loss: 0.3358 - Precision: 0.7542\n",
      "Epoch 67/100\n",
      "8000/8000 [==============================] - 0s 31us/sample - loss: 0.3356 - Precision: 0.7615\n",
      "Epoch 68/100\n",
      "8000/8000 [==============================] - 0s 31us/sample - loss: 0.3355 - Precision: 0.7517\n",
      "Epoch 69/100\n",
      "8000/8000 [==============================] - 0s 31us/sample - loss: 0.3356 - Precision: 0.7598\n",
      "Epoch 70/100\n",
      "8000/8000 [==============================] - 0s 31us/sample - loss: 0.3353 - Precision: 0.75490s - loss: 0.3390 - Precision: 0.76\n",
      "Epoch 71/100\n",
      "8000/8000 [==============================] - 0s 31us/sample - loss: 0.3355 - Precision: 0.7562\n",
      "Epoch 72/100\n",
      "8000/8000 [==============================] - 0s 31us/sample - loss: 0.3348 - Precision: 0.7662\n",
      "Epoch 73/100\n",
      "8000/8000 [==============================] - 0s 30us/sample - loss: 0.3349 - Precision: 0.7566\n",
      "Epoch 74/100\n"
     ]
    },
    {
     "name": "stdout",
     "output_type": "stream",
     "text": [
      "8000/8000 [==============================] - 0s 30us/sample - loss: 0.3347 - Precision: 0.7601\n",
      "Epoch 75/100\n",
      "8000/8000 [==============================] - 0s 30us/sample - loss: 0.3348 - Precision: 0.7519\n",
      "Epoch 76/100\n",
      "8000/8000 [==============================] - 0s 33us/sample - loss: 0.3349 - Precision: 0.7586\n",
      "Epoch 77/100\n",
      "8000/8000 [==============================] - 0s 30us/sample - loss: 0.3348 - Precision: 0.7553\n",
      "Epoch 78/100\n",
      "8000/8000 [==============================] - 0s 30us/sample - loss: 0.3347 - Precision: 0.7697\n",
      "Epoch 79/100\n",
      "8000/8000 [==============================] - 0s 30us/sample - loss: 0.3352 - Precision: 0.7552\n",
      "Epoch 80/100\n",
      "8000/8000 [==============================] - 0s 29us/sample - loss: 0.3344 - Precision: 0.7562\n",
      "Epoch 81/100\n",
      "8000/8000 [==============================] - 0s 30us/sample - loss: 0.3347 - Precision: 0.7655\n",
      "Epoch 82/100\n",
      "8000/8000 [==============================] - 0s 30us/sample - loss: 0.3346 - Precision: 0.7618\n",
      "Epoch 83/100\n",
      "8000/8000 [==============================] - 0s 30us/sample - loss: 0.3345 - Precision: 0.7599\n",
      "Epoch 84/100\n",
      "8000/8000 [==============================] - 0s 30us/sample - loss: 0.3343 - Precision: 0.7617\n",
      "Epoch 85/100\n",
      "8000/8000 [==============================] - 0s 30us/sample - loss: 0.3342 - Precision: 0.7613\n",
      "Epoch 86/100\n",
      "8000/8000 [==============================] - 0s 30us/sample - loss: 0.3345 - Precision: 0.7579\n",
      "Epoch 87/100\n",
      "8000/8000 [==============================] - 0s 30us/sample - loss: 0.3341 - Precision: 0.7619\n",
      "Epoch 88/100\n",
      "8000/8000 [==============================] - 0s 30us/sample - loss: 0.3340 - Precision: 0.7566\n",
      "Epoch 89/100\n",
      "8000/8000 [==============================] - 0s 30us/sample - loss: 0.3341 - Precision: 0.7632\n",
      "Epoch 90/100\n",
      "8000/8000 [==============================] - 0s 30us/sample - loss: 0.3341 - Precision: 0.7639\n",
      "Epoch 91/100\n",
      "8000/8000 [==============================] - 0s 30us/sample - loss: 0.3340 - Precision: 0.7623\n",
      "Epoch 92/100\n",
      "8000/8000 [==============================] - 0s 30us/sample - loss: 0.3340 - Precision: 0.7647\n",
      "Epoch 93/100\n",
      "8000/8000 [==============================] - ETA: 0s - loss: 0.3327 - Precision: 0.766 - 0s 30us/sample - loss: 0.3338 - Precision: 0.7666\n",
      "Epoch 94/100\n",
      "8000/8000 [==============================] - 0s 29us/sample - loss: 0.3341 - Precision: 0.7588\n",
      "Epoch 95/100\n",
      "8000/8000 [==============================] - 0s 30us/sample - loss: 0.3340 - Precision: 0.7618\n",
      "Epoch 96/100\n",
      "8000/8000 [==============================] - 0s 31us/sample - loss: 0.3341 - Precision: 0.7554\n",
      "Epoch 97/100\n",
      "8000/8000 [==============================] - 0s 31us/sample - loss: 0.3341 - Precision: 0.7574\n",
      "Epoch 98/100\n",
      "8000/8000 [==============================] - 0s 31us/sample - loss: 0.3340 - Precision: 0.7568\n",
      "Epoch 99/100\n",
      "8000/8000 [==============================] - 0s 30us/sample - loss: 0.3338 - Precision: 0.7609\n",
      "Epoch 100/100\n",
      "8000/8000 [==============================] - 0s 31us/sample - loss: 0.3340 - Precision: 0.7672\n"
     ]
    },
    {
     "data": {
      "text/plain": [
       "<tensorflow.python.keras.callbacks.History at 0x2deb652b438>"
      ]
     },
     "execution_count": 27,
     "metadata": {},
     "output_type": "execute_result"
    }
   ],
   "source": [
    "ann.fit(X_train, y_train, batch_size = 32, epochs = 100)"
   ]
  },
  {
   "cell_type": "markdown",
   "metadata": {
    "colab_type": "text",
    "id": "tJj5k2MxZga3"
   },
   "source": [
    "## Part 4 - Making the predictions and evaluating the model"
   ]
  },
  {
   "cell_type": "markdown",
   "metadata": {
    "colab_type": "text",
    "id": "84QFoqGYeXHL"
   },
   "source": [
    "### Predicting the result of a single observation"
   ]
  },
  {
   "cell_type": "code",
   "execution_count": 28,
   "metadata": {
    "colab": {
     "base_uri": "https://localhost:8080/",
     "height": 34
    },
    "colab_type": "code",
    "executionInfo": {
     "elapsed": 33990,
     "status": "ok",
     "timestamp": 1590257481594,
     "user": {
      "displayName": "Hadelin de Ponteves",
      "photoUrl": "https://lh3.googleusercontent.com/a-/AOh14GhEuXdT7eQweUmRPW8_laJuPggSK6hfvpl5a6WBaA=s64",
      "userId": "15047218817161520419"
     },
     "user_tz": -240
    },
    "id": "2d8IoCCkeWGL",
    "outputId": "957f3970-e197-4c3b-a150-7f69dc567f5d"
   },
   "outputs": [
    {
     "name": "stdout",
     "output_type": "stream",
     "text": [
      "[[False]]\n"
     ]
    }
   ],
   "source": [
    "print(ann.predict(sc.transform([[1, 0, 0, 600, 1, 40, 3, 60000, 2, 1, 1, 50000]])) > 0.5)"
   ]
  },
  {
   "cell_type": "markdown",
   "metadata": {
    "colab_type": "text",
    "id": "wGjx94g2n7OV"
   },
   "source": [
    "Therefore, our ANN model predicts that this customer stays in the bank!\n",
    "\n",
    "**Important note 1:** Notice that the values of the features were all input in a double pair of square brackets. That's because the \"predict\" method always expects a 2D array as the format of its inputs. And putting our values into a double pair of square brackets makes the input exactly a 2D array."
   ]
  },
  {
   "cell_type": "markdown",
   "metadata": {
    "colab_type": "text",
    "id": "u7yx47jPZt11"
   },
   "source": [
    "### Predicting the Test set results"
   ]
  },
  {
   "cell_type": "code",
   "execution_count": 29,
   "metadata": {
    "colab": {
     "base_uri": "https://localhost:8080/",
     "height": 137
    },
    "colab_type": "code",
    "executionInfo": {
     "elapsed": 33987,
     "status": "ok",
     "timestamp": 1590257481595,
     "user": {
      "displayName": "Hadelin de Ponteves",
      "photoUrl": "https://lh3.googleusercontent.com/a-/AOh14GhEuXdT7eQweUmRPW8_laJuPggSK6hfvpl5a6WBaA=s64",
      "userId": "15047218817161520419"
     },
     "user_tz": -240
    },
    "id": "nIyEeQdRZwgs",
    "outputId": "82330ba8-9bdc-4fd1-d3cf-b6d78ee7c2a3"
   },
   "outputs": [
    {
     "name": "stdout",
     "output_type": "stream",
     "text": [
      "[[0 0]\n",
      " [0 1]\n",
      " [0 0]\n",
      " ...\n",
      " [0 0]\n",
      " [0 0]\n",
      " [0 0]]\n"
     ]
    }
   ],
   "source": [
    "y_pred = ann.predict(X_test)\n",
    "y_pred = (y_pred > 0.5)\n",
    "print(np.concatenate((y_pred.reshape(len(y_pred),1), y_test.reshape(len(y_test),1)),1))"
   ]
  },
  {
   "cell_type": "markdown",
   "metadata": {
    "colab_type": "text",
    "id": "o0oyfLWoaEGw"
   },
   "source": [
    "### Making the Confusion Matrix"
   ]
  },
  {
   "cell_type": "code",
   "execution_count": 33,
   "metadata": {
    "colab": {
     "base_uri": "https://localhost:8080/",
     "height": 68
    },
    "colab_type": "code",
    "executionInfo": {
     "elapsed": 33981,
     "status": "ok",
     "timestamp": 1590257481595,
     "user": {
      "displayName": "Hadelin de Ponteves",
      "photoUrl": "https://lh3.googleusercontent.com/a-/AOh14GhEuXdT7eQweUmRPW8_laJuPggSK6hfvpl5a6WBaA=s64",
      "userId": "15047218817161520419"
     },
     "user_tz": -240
    },
    "id": "ci6K_r6LaF6P",
    "outputId": "4d854e9e-22d5-432f-f6e5-a102fe3ae0bd"
   },
   "outputs": [
    {
     "name": "stdout",
     "output_type": "stream",
     "text": [
      "[[1507   88]\n",
      " [ 201  204]]\n",
      "0.8555\n",
      "0.6986301369863014\n"
     ]
    }
   ],
   "source": [
    "cm = confusion_matrix(y_test, y_pred)\n",
    "print(cm)\n",
    "print(accuracy_score(y_test, y_pred))\n",
    "print(precision_score(y_test, y_pred))"
   ]
  }
 ],
 "metadata": {
  "colab": {
   "authorship_tag": "ABX9TyMeRFWFoGrdaL5S3dx5MWmb",
   "collapsed_sections": [],
   "name": "artificial_neural_network.ipynb",
   "provenance": [],
   "toc_visible": true
  },
  "kernelspec": {
   "display_name": "tensorflow",
   "language": "python",
   "name": "tensorflow"
  },
  "language_info": {
   "codemirror_mode": {
    "name": "ipython",
    "version": 3
   },
   "file_extension": ".py",
   "mimetype": "text/x-python",
   "name": "python",
   "nbconvert_exporter": "python",
   "pygments_lexer": "ipython3",
   "version": "3.6.10"
  }
 },
 "nbformat": 4,
 "nbformat_minor": 1
}
